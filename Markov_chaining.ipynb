{
 "cells": [
  {
   "cell_type": "markdown",
   "metadata": {},
   "source": [
    "http://www.onthelambda.com/2014/02/20/how-to-fake-a-sophisticated-knowledge-of-wine-with-markov-chains/"
   ]
  },
  {
   "cell_type": "markdown",
   "metadata": {},
   "source": [
    "Let's create a file from the first 10,000 of the 1.4 million abstracts to test this..."
   ]
  },
  {
   "cell_type": "code",
   "execution_count": 34,
   "metadata": {
    "collapsed": false
   },
   "outputs": [],
   "source": [
    "with open(\"/Users/adam/Code/SCIgen2/char-rnn/data/pubmed_abstracts/input.txt\", \"rb\") as input_file:\n",
    "    with open(\"/Users/adam/Code/SCIgen2/char-rnn/data/pubmed_abstracts/sample_of_10000.txt\", \"wb\") as output_file:\n",
    "        for i in range(1000):\n",
    "            output_file.write(\"BEGIN NOW \")\n",
    "            # don't include the newline\n",
    "            data = input_file.readline()[:-1]\n",
    "            output_file.write(data)\n",
    "            output_file.write(\" END\\n\")"
   ]
  },
  {
   "cell_type": "code",
   "execution_count": 35,
   "metadata": {
    "collapsed": true
   },
   "outputs": [],
   "source": [
    "import pickle\n",
    " \n",
    "fh = open(\"/Users/adam/Code/SCIgen2/char-rnn/data/pubmed_abstracts/sample_of_10000.txt\", \"r\")\n",
    "\n",
    "chain = {}\n",
    " \n",
    "def generate_trigram(words):\n",
    "    if len(words) < 3:\n",
    "        return\n",
    "    for i in xrange(len(words) - 2):\n",
    "        yield (words[i], words[i+1], words[i+2])\n",
    " \n",
    "for line in fh.readlines():\n",
    "    words = line.split()\n",
    "    for word1, word2, word3 in generate_trigram(words):\n",
    "        key = (word1, word2)\n",
    "        if key in chain:\n",
    "            chain[key].append(word3)\n",
    "        else:\n",
    "            chain[key] = [word3]\n",
    " \n",
    "pickle.dump(chain, open(\"/Users/adam/Code/SCIgen2/char-rnn/data/pubmed_abstracts/chain.p\", \"wb\" ))\n"
   ]
  },
  {
   "cell_type": "code",
   "execution_count": 27,
   "metadata": {
    "collapsed": true
   },
   "outputs": [],
   "source": [
    "import pickle\n",
    "import random\n",
    " \n",
    "chain = pickle.load(open(\"/Users/adam/Code/SCIgen2/char-rnn/data/pubmed_abstracts/chain.p\", \"rb\"))"
   ]
  },
  {
   "cell_type": "code",
   "execution_count": 49,
   "metadata": {
    "collapsed": false
   },
   "outputs": [
    {
     "name": "stdout",
     "output_type": "stream",
     "text": [
      "A 52 year old lady was referred for day-care operative hysteroscopy. METHODS: The patient continued to grow, divide, and compete in the model with glycerol-induced rhabdomyolysis and ATN. When injected into WT mice have been shown to increase breastfeeding initiation but not CaLOX1-silenced, pepper leaves. Recombinant CaLOX1 protein expressed in inflorescences, roots, immature embryos and juveniles, respectively. KEY RESULTS: Parsimony analyses of a nitrogen-centered positive charge on the inner vestibule of the ion-coated NIMS surface without further simulation. We consider population genetic structure as a model in rats, they produce lecitotrophic larvae and adults), with the pyrimidine (PYR) domain. For the current animal studies indicate that two LIM-homeodomain proteins, Arrowhead and Lim1 act redundantly, using Chip as a mechanism by which probiotic might act as tumor suppressors in a rat model where long-range electrostatics bring enzyme and consequently the distribution of C. metallidurans amended with mobile phones and, whenever possible and raise important questions about perceived benefits of, barriers to, its future adoption in the short ACD eyes.\n"
     ]
    }
   ],
   "source": [
    "new_review = []\n",
    "sword1 = \"BEGIN\"\n",
    "sword2 = \"NOW\"\n",
    " \n",
    "while True:\n",
    "    sword1, sword2 = sword2, random.choice(chain[(sword1, sword2)])\n",
    "    if sword2 == \"END\":\n",
    "        break\n",
    "    new_review.append(sword2)\n",
    " \n",
    "print ' '.join(new_review)"
   ]
  },
  {
   "cell_type": "markdown",
   "metadata": {},
   "source": [
    "## Adjustable n-grams\n",
    "\n",
    "Tweak `n` below to change how much state the Markov chain considers. i.e. with `n=3`, it will select each word based on the two before it.\n",
    "\n",
    "In informal testing with the sample of 10k pubmed abstracts, 3-4 seems to be the optimum; at 5, it looks like it's repeating substantial parts of the input verbatim. We might be able to overcome this with more data, or by doing something to make very rare words (such as gene names) less significant when generating new data."
   ]
  },
  {
   "cell_type": "code",
   "execution_count": 1,
   "metadata": {
    "collapsed": true
   },
   "outputs": [],
   "source": [
    "from markov_chain import Model"
   ]
  },
  {
   "cell_type": "code",
   "execution_count": 17,
   "metadata": {
    "collapsed": false
   },
   "outputs": [],
   "source": [
    "model = Model(n=4)\n",
    "\n",
    "def generate_abstracts():\n",
    "    \"\"\"Yield abstracts as lists of words\"\"\"\n",
    "    with open(\"sample_of_10000.txt\") as f:\n",
    "        i = 0\n",
    "        for line in f:\n",
    "            line = line.strip()[len(\"BEGIN NOW \"):-len(\" END\")]\n",
    "            if line:\n",
    "                yield line.split()\n",
    "\n",
    "model.train(generate_abstracts())"
   ]
  },
  {
   "cell_type": "code",
   "execution_count": 18,
   "metadata": {
    "collapsed": false
   },
   "outputs": [
    {
     "name": "stdout",
     "output_type": "stream",
     "text": [
      "Met4 is the transcriptional activator of a reporter construct carrying the Oct-4-binding sites. Deletion analysis of the sequence data, prioritization of all detected sequence variants led to three candidates to be considered important barriers for the male gametophyte and pollen grain, but relatively little is known about how developmental programs control cell division. Here, I summarize our current knowledge of the content of ceramide and dihydroceramide levels. It is shown by non-linear optical spectroscopies that the free water surface is ice-like and can be run at room temperature and refrigerated, and thus samples may be limited.\n"
     ]
    }
   ],
   "source": [
    "sample = model.generate()\n",
    "print \" \".join(sample)"
   ]
  },
  {
   "cell_type": "code",
   "execution_count": null,
   "metadata": {
    "collapsed": true
   },
   "outputs": [],
   "source": []
  }
 ],
 "metadata": {
  "kernelspec": {
   "display_name": "Python 2",
   "language": "python",
   "name": "python2"
  },
  "language_info": {
   "codemirror_mode": {
    "name": "ipython",
    "version": 2
   },
   "file_extension": ".py",
   "mimetype": "text/x-python",
   "name": "python",
   "nbconvert_exporter": "python",
   "pygments_lexer": "ipython2",
   "version": "2.7.9"
  }
 },
 "nbformat": 4,
 "nbformat_minor": 0
}
