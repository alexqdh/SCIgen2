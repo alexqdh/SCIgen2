{
 "cells": [
  {
   "cell_type": "markdown",
   "metadata": {},
   "source": [
    "http://www.onthelambda.com/2014/02/20/how-to-fake-a-sophisticated-knowledge-of-wine-with-markov-chains/"
   ]
  },
  {
   "cell_type": "markdown",
   "metadata": {},
   "source": [
    "Let's create a file from the first 10,000 of the 1.4 million abstracts to test this..."
   ]
  },
  {
   "cell_type": "code",
   "execution_count": 34,
   "metadata": {
    "collapsed": false
   },
   "outputs": [],
   "source": [
    "with open(\"/Users/adam/Code/SCIgen2/char-rnn/data/pubmed_abstracts/input.txt\", \"rb\") as input_file:\n",
    "    with open(\"/Users/adam/Code/SCIgen2/char-rnn/data/pubmed_abstracts/sample_of_10000.txt\", \"wb\") as output_file:\n",
    "        for i in range(1000):\n",
    "            output_file.write(\"BEGIN NOW \")\n",
    "            # don't include the newline\n",
    "            data = input_file.readline()[:-1]\n",
    "            output_file.write(data)\n",
    "            output_file.write(\" END\\n\")"
   ]
  },
  {
   "cell_type": "code",
   "execution_count": 35,
   "metadata": {
    "collapsed": true
   },
   "outputs": [],
   "source": [
    "import pickle\n",
    " \n",
    "fh = open(\"/Users/adam/Code/SCIgen2/char-rnn/data/pubmed_abstracts/sample_of_10000.txt\", \"r\")\n",
    "\n",
    "chain = {}\n",
    " \n",
    "def generate_trigram(words):\n",
    "    if len(words) < 3:\n",
    "        return\n",
    "    for i in xrange(len(words) - 2):\n",
    "        yield (words[i], words[i+1], words[i+2])\n",
    " \n",
    "for line in fh.readlines():\n",
    "    words = line.split()\n",
    "    for word1, word2, word3 in generate_trigram(words):\n",
    "        key = (word1, word2)\n",
    "        if key in chain:\n",
    "            chain[key].append(word3)\n",
    "        else:\n",
    "            chain[key] = [word3]\n",
    " \n",
    "pickle.dump(chain, open(\"/Users/adam/Code/SCIgen2/char-rnn/data/pubmed_abstracts/chain.p\", \"wb\" ))\n"
   ]
  },
  {
   "cell_type": "code",
   "execution_count": 27,
   "metadata": {
    "collapsed": true
   },
   "outputs": [],
   "source": [
    "import pickle\n",
    "import random\n",
    " \n",
    "chain = pickle.load(open(\"/Users/adam/Code/SCIgen2/char-rnn/data/pubmed_abstracts/chain.p\", \"rb\"))"
   ]
  },
  {
   "cell_type": "code",
   "execution_count": 49,
   "metadata": {
    "collapsed": false
   },
   "outputs": [
    {
     "name": "stdout",
     "output_type": "stream",
     "text": [
      "A 52 year old lady was referred for day-care operative hysteroscopy. METHODS: The patient continued to grow, divide, and compete in the model with glycerol-induced rhabdomyolysis and ATN. When injected into WT mice have been shown to increase breastfeeding initiation but not CaLOX1-silenced, pepper leaves. Recombinant CaLOX1 protein expressed in inflorescences, roots, immature embryos and juveniles, respectively. KEY RESULTS: Parsimony analyses of a nitrogen-centered positive charge on the inner vestibule of the ion-coated NIMS surface without further simulation. We consider population genetic structure as a model in rats, they produce lecitotrophic larvae and adults), with the pyrimidine (PYR) domain. For the current animal studies indicate that two LIM-homeodomain proteins, Arrowhead and Lim1 act redundantly, using Chip as a mechanism by which probiotic might act as tumor suppressors in a rat model where long-range electrostatics bring enzyme and consequently the distribution of C. metallidurans amended with mobile phones and, whenever possible and raise important questions about perceived benefits of, barriers to, its future adoption in the short ACD eyes.\n"
     ]
    }
   ],
   "source": [
    "new_review = []\n",
    "sword1 = \"BEGIN\"\n",
    "sword2 = \"NOW\"\n",
    " \n",
    "while True:\n",
    "    sword1, sword2 = sword2, random.choice(chain[(sword1, sword2)])\n",
    "    if sword2 == \"END\":\n",
    "        break\n",
    "    new_review.append(sword2)\n",
    " \n",
    "print ' '.join(new_review)"
   ]
  }
 ],
 "metadata": {
  "kernelspec": {
   "display_name": "Python 2",
   "language": "python",
   "name": "python2"
  },
  "language_info": {
   "codemirror_mode": {
    "name": "ipython",
    "version": 2
   },
   "file_extension": ".py",
   "mimetype": "text/x-python",
   "name": "python",
   "nbconvert_exporter": "python",
   "pygments_lexer": "ipython2",
   "version": "2.7.10"
  }
 },
 "nbformat": 4,
 "nbformat_minor": 0
}
