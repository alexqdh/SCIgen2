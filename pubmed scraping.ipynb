{
 "cells": [
  {
   "cell_type": "markdown",
   "metadata": {},
   "source": [
    "Let's grab abstracts and metadata from PubMed via the Entrez API.\n",
    "The biopython library should do the trick:\n",
    "http://biopython.org/DIST/docs/api/Bio.Entrez-module.html"
   ]
  },
  {
   "cell_type": "code",
   "execution_count": 16,
   "metadata": {
    "collapsed": false
   },
   "outputs": [
    {
     "name": "stdout",
     "output_type": "stream",
     "text": [
      "BMC pregnancy and childbirth\n",
      "Journal of natural medicines\n",
      "Mycorrhiza\n",
      "The New phytologist\n",
      "Molecular ecology\n",
      "PloS one\n"
     ]
    }
   ],
   "source": [
    "from Bio import Medline, Entrez\n",
    "\n",
    "pmids = ['18680603', '18665331', '18661158', '18627489', '18627452', '18612381']\n",
    "Entrez.email = 'your_email@your_address.com'\n",
    "handle = Entrez.efetch(db=\"pubmed\", id=pmids, rettype=\"medline\", retmode=\"text\")\n",
    "records = Medline.parse(handle)\n",
    "# returns a generator containing dicts \n",
    "# E.g. to get journal titles back\n",
    "for record in records:\n",
    "    print record['JT']"
   ]
  },
  {
   "cell_type": "markdown",
   "metadata": {},
   "source": [
    "Great, that works. So how about getting the text of the abstracts?"
   ]
  },
  {
   "cell_type": "code",
   "execution_count": 7,
   "metadata": {
    "collapsed": false,
    "scrolled": true
   },
   "outputs": [
    {
     "name": "stdout",
     "output_type": "stream",
     "text": [
      "BACKGROUND: Evidence-based practice (EBP) can provide appropriate care for women and their babies; however implementation of EBP requires health professionals to have access to knowledge, the ability to interpret health care information and then strategies to apply care. The aim of this survey was to assess current knowledge of evidence-based practice, information seeking practices, perceptions and potential enablers and barriers to clinical practice change among maternal and infant health practitioners in South East Asia. METHODS: Questionnaires about IT access for health information and evidence-based practice were administered during August to December 2005 to health care professionals working at the nine hospitals participating in the South East Asia Optimising Reproductive and Child Health in Developing countries (SEA-ORCHID) project in Indonesia, Malaysia, Thailand and The Philippines. RESULTS: The survey was completed by 660 staff from six health professional groups. Overall, easy IT access for health care information was available to 46% of participants. However, over a fifth reported no IT access was available and over half of nurses and midwives never used IT health information. Evidence-based practice had been heard of by 58% but the majority did not understand the concept. The most frequent sites accessed were Google and PubMed. The Cochrane Library had been heard of by 47% of whom 51% had access although the majority did not use it or used it less than monthly. Only 27% had heard of the WHO Reproductive Health Library and 35% had been involved in a clinical practice change and were able to identify enablers and barriers to change. Only a third of participants had been actively involved in practice change with wide variation between the countries. Willingness to participate in professional development workshops on evidence-based practice was high. CONCLUSION: This survey has identified the need to improve IT access to health care information and health professionals' knowledge of evidence-based health care to assist in employing evidence base practice effectively.\n",
      "The antispasmodic effects of hexane-, chloroform-, methanol- and water-extracts of the orchid Encyclia michuacana were studied in vitro on guinea pig ileum against three spasmogens: acetylcholine (Ach), histamine and barium chloride. The chloroform extract exerted a significant antispasmodic effect on ileum contractions induced by Ach, histamine and barium chloride (IC(50) = 90.64, 73.12 and 115.2 microg/mL, respectively). Furthermore, the chloroform extract of E. michuacana provoked a concentration-dependent inhibition of spontaneous contractions of guinea pig ileum with potencies comparable to those of papaverine. The antagonism against the spasmogens used suggests that the action of the chloroform extract of E. michuacana could be due mainly to the presence of gigantol. Hexane-, methanol- and water-extracts did not elicit any significant spasmolytic activity.\n",
      "Epipactis helleborine (L.) Crantz, one of the most widespread orchid species, occurs in a broad range of habitats. This orchid is fully myco-heterotrophic in the germination stage and partially myco-heterotrophic in the adult stage, suggesting that a mycorrhizal partner is one of the key factors that determines whether E. helleborine successfully colonizes a specific environment. We focused on the coastal habitat of Japanese E. helleborine and surveyed the mycorrhizal fungi from geographically different coastal populations that grow in Japanese black pine (Pinus thunbergii Parl.) forests of coastal sand dunes. Mycorrhizal fungi and plant haplotypes were then compared with those from inland populations. Molecular phylogenetic analysis of large subunit rRNA sequences of fungi from its roots revealed that E. helleborine is mainly associated with several ectomycorrhizal taxa of the Pezizales, such as Wilcoxina, Tuber, and Hydnotrya. All individuals from coastal dunes were exclusively associated with a pezizalean fungus, Wilcoxina, which is ectomycorrhizal with pine trees growing on coastal dunes. Wilcoxina was not detected in inland forests. Coastal populations were indistinguishable from inland populations based on plant trnL intron haplotypes. Our results indicate that mycorrhizal association with geographically restricted pezizalean ectomycorrhizal fungi is a key control upon this orchid species' distribution across widely different forest habitats.\n",
      "Direct measurement of the carbon (C) 'cost' of mycorrhizas is problematic. Although estimates have been made for arbuscular and ectomycorrhizal symbioses, these are based on incomplete budgets or indirect measurements. Furthermore, the conventional model of unidirectional plant-to-fungus C flux is too simplistic. Net fungus-to-plant C transfer supports seedling establishment in c. 10% of plant species, including most orchids, and bidirectional C flows occur in ectomycorrhiza utilizing soil amino acids. Here, the C cost of mycorrhizas to the green orchid Goodyera repens was determined by measurement of simultaneous bidirectional fluxes of 14C labelled sources using a monoxenic system with the fungus Ceratobasidium cornigerum. Transfer of C from fungus to plant ('up-flow') occurs in the photosynthesizing orchid G. repens (max. 0.06 microg) whereas over five times more current assimilate (min. 0.355 microg) is simultaneously allocated in the reverse direction to the mycorrhizal fungus ('down-flow') after 8 d. Carbon is transferred rapidly, being detected in plant-fungal respiration within 31 h of labelling. This study provides the most complete C budget for an orchid-mycorrhizal symbiosis, and clearly shows net plant-to-fungus C flux. The rapidity of bidirectional C flux is indicative of dynamic transfer at an interfacial apoplast as opposed to reliance on digestion of fungal pelotons.\n",
      "Fungus-subsidized growth through the seedling stage is the most critical feature of the life history for the thousands of mycorrhizal plant species that propagate by means of 'dust seeds.' We investigated the extent of specificity towards fungi shown by orchids in the genera Cephalanthera and Epipactis at three stages of their life cycle: (i) initiation of germination, (ii) during seedling development, and (iii) in the mature photosynthetic plant. It is known that in the mature phase, plants of these genera can be mycorrhizal with a number of fungi that are simultaneously ectomycorrhizal with the roots of neighbouring forest trees. The extent to which earlier developmental stages use the same or a distinctive suite of fungi was unclear. To address this question, a total of 1500 packets containing orchid seeds were buried for up to 3 years in diverse European forest sites which either supported or lacked populations of helleborine orchids. After harvest, the fungi associated with the three developmental stages, and with tree roots, were identified via cultivation-independent molecular methods. While our results show that most fungal symbionts are ectomycorrhizal, differences were observed between orchids in the representation of fungi at the three life stages. In Cephalanthera damasonium and C. longifolia, the fungi detected in seedlings were only a subset of the wider range seen in germinating seeds and mature plants. In Epipactis atrorubens, the fungi detected were similar at all three life stages, but different fungal lineages produced a difference in seedling germination performance. Our results demonstrate that there can be a narrow checkpoint for mycorrhizal range during seedling growth relative to the more promiscuous germination and mature stages of these plants' life cycle.\n",
      "BACKGROUND: The burden of mortality and morbidity related to pregnancy and childbirth remains concentrated in developing countries. SEA-ORCHID (South East Asia Optimising Reproductive and Child Health In Developing countries) is evaluating whether a multifaceted intervention to strengthen capacity for research synthesis, evidence-based care and knowledge implementation improves adoption of best clinical practice recommendations leading to better health for mothers and babies. In this study we assessed current practices in perinatal health care in four South East Asian countries and determined whether they were aligned with best practice recommendations. METHODOLOGY/PRINCIPAL FINDINGS: We completed an audit of 9550 medical records of women and their 9665 infants at nine hospitals; two in each of Indonesia, Malaysia and The Philippines, and three in Thailand between January-December 2005. We compared actual clinical practices with best practice recommendations selected from the Cochrane Library and the World Health Organization Reproductive Health Library. Evidence-based components of the active management of the third stage of labour and appropriately treating eclampsia with magnesium sulphate were universally practiced in all hospitals. Appropriate antibiotic prophylaxis for caesarean section, a beneficial form of care, was practiced in less than 5% of cases in most hospitals. Use of the unnecessary practices of enema in labour ranged from 1% to 61% and rates of episiotomy for vaginal birth ranged from 31% to 95%. Other appropriate practices were commonly performed to varying degrees between countries and also between hospitals within the same country. CONCLUSIONS/SIGNIFICANCE: Whilst some perinatal health care practices audited were consistent with best available evidence, several were not. We conclude that recording of clinical practices should be an essential step to improve quality of care. Based on these findings, the SEA-ORCHID project team has been developing and implementing interventions aimed at increasing compliance with evidence-based clinical practice recommendations to improve perinatal practice in South East Asia.\n"
     ]
    }
   ],
   "source": [
    "handle = Entrez.efetch(db=\"pubmed\", id=pmids, rettype=\"medline\", retmode=\"text\")\n",
    "records = Medline.parse(handle)\n",
    "for record in records:\n",
    "    print record['AB']   # journal titles would be record['JT']\n",
    " "
   ]
  },
  {
   "cell_type": "markdown",
   "metadata": {},
   "source": [
    "So to get more abstracts, we need (many) more pmids:\n",
    "http://www.ncbi.nlm.nih.gov/pmc/tools/ftp/#Obtaining_DOIs"
   ]
  },
  {
   "cell_type": "code",
   "execution_count": 24,
   "metadata": {
    "collapsed": false,
    "scrolled": true
   },
   "outputs": [
    {
     "name": "stdout",
     "output_type": "stream",
     "text": [
      "3679075\n"
     ]
    },
    {
     "data": {
      "text/html": [
       "<div style=\"max-height:1000px;max-width:1500px;overflow:auto;\">\n",
       "<table border=\"1\" class=\"dataframe\">\n",
       "  <thead>\n",
       "    <tr style=\"text-align: right;\">\n",
       "      <th></th>\n",
       "      <th>Journal Title</th>\n",
       "      <th>ISSN</th>\n",
       "      <th>eISSN</th>\n",
       "      <th>Year</th>\n",
       "      <th>Volume</th>\n",
       "      <th>Issue</th>\n",
       "      <th>Page</th>\n",
       "      <th>DOI</th>\n",
       "      <th>PMCID</th>\n",
       "      <th>PMID</th>\n",
       "      <th>Manuscript Id</th>\n",
       "      <th>Release Date</th>\n",
       "    </tr>\n",
       "  </thead>\n",
       "  <tbody>\n",
       "    <tr>\n",
       "      <th>0</th>\n",
       "      <td> Breast Cancer Res</td>\n",
       "      <td> 1465-5411</td>\n",
       "      <td> 1465-542X</td>\n",
       "      <td> 2000</td>\n",
       "      <td> 3</td>\n",
       "      <td> 1</td>\n",
       "      <td> 55</td>\n",
       "      <td> NaN</td>\n",
       "      <td> PMC13900</td>\n",
       "      <td> 11250746</td>\n",
       "      <td> NaN</td>\n",
       "      <td> live</td>\n",
       "    </tr>\n",
       "    <tr>\n",
       "      <th>1</th>\n",
       "      <td> Breast Cancer Res</td>\n",
       "      <td> 1465-5411</td>\n",
       "      <td> 1465-542X</td>\n",
       "      <td> 2000</td>\n",
       "      <td> 3</td>\n",
       "      <td> 1</td>\n",
       "      <td> 61</td>\n",
       "      <td> NaN</td>\n",
       "      <td> PMC13901</td>\n",
       "      <td> 11250747</td>\n",
       "      <td> NaN</td>\n",
       "      <td> live</td>\n",
       "    </tr>\n",
       "    <tr>\n",
       "      <th>2</th>\n",
       "      <td> Breast Cancer Res</td>\n",
       "      <td> 1465-5411</td>\n",
       "      <td> 1465-542X</td>\n",
       "      <td> 2000</td>\n",
       "      <td> 3</td>\n",
       "      <td> 1</td>\n",
       "      <td> 66</td>\n",
       "      <td> NaN</td>\n",
       "      <td> PMC13902</td>\n",
       "      <td> 11250748</td>\n",
       "      <td> NaN</td>\n",
       "      <td> live</td>\n",
       "    </tr>\n",
       "    <tr>\n",
       "      <th>3</th>\n",
       "      <td> Breast Cancer Res</td>\n",
       "      <td> 1465-5411</td>\n",
       "      <td> 1465-542X</td>\n",
       "      <td> 1999</td>\n",
       "      <td> 2</td>\n",
       "      <td> 1</td>\n",
       "      <td> 59</td>\n",
       "      <td> NaN</td>\n",
       "      <td> PMC13911</td>\n",
       "      <td> 11056684</td>\n",
       "      <td> NaN</td>\n",
       "      <td> live</td>\n",
       "    </tr>\n",
       "    <tr>\n",
       "      <th>4</th>\n",
       "      <td> Breast Cancer Res</td>\n",
       "      <td> 1465-5411</td>\n",
       "      <td> 1465-542X</td>\n",
       "      <td> 1999</td>\n",
       "      <td> 2</td>\n",
       "      <td> 1</td>\n",
       "      <td> 64</td>\n",
       "      <td> NaN</td>\n",
       "      <td> PMC13912</td>\n",
       "      <td> 11400682</td>\n",
       "      <td> NaN</td>\n",
       "      <td> live</td>\n",
       "    </tr>\n",
       "  </tbody>\n",
       "</table>\n",
       "</div>"
      ],
      "text/plain": [
       "       Journal Title       ISSN      eISSN  Year Volume Issue Page  DOI  \\\n",
       "0  Breast Cancer Res  1465-5411  1465-542X  2000      3     1   55  NaN   \n",
       "1  Breast Cancer Res  1465-5411  1465-542X  2000      3     1   61  NaN   \n",
       "2  Breast Cancer Res  1465-5411  1465-542X  2000      3     1   66  NaN   \n",
       "3  Breast Cancer Res  1465-5411  1465-542X  1999      2     1   59  NaN   \n",
       "4  Breast Cancer Res  1465-5411  1465-542X  1999      2     1   64  NaN   \n",
       "\n",
       "      PMCID      PMID Manuscript Id Release Date  \n",
       "0  PMC13900  11250746           NaN         live  \n",
       "1  PMC13901  11250747           NaN         live  \n",
       "2  PMC13902  11250748           NaN         live  \n",
       "3  PMC13911  11056684           NaN         live  \n",
       "4  PMC13912  11400682           NaN         live  "
      ]
     },
     "execution_count": 24,
     "metadata": {},
     "output_type": "execute_result"
    }
   ],
   "source": [
    "import pandas\n",
    "\n",
    "pmid_data = pandas.read_csv(\"/Users/adam/Code/SCIgen2/pubmed/PMC-ids.csv\")\n",
    "print len(pmid_data)\n",
    "pmid_data.head()"
   ]
  },
  {
   "cell_type": "markdown",
   "metadata": {},
   "source": [
    "3.68 million papers! OK now let's limit ourselves to papers published since the year 2010..."
   ]
  },
  {
   "cell_type": "code",
   "execution_count": 25,
   "metadata": {
    "collapsed": false
   },
   "outputs": [
    {
     "name": "stdout",
     "output_type": "stream",
     "text": [
      "1495598\n"
     ]
    }
   ],
   "source": [
    "pmid_data = pmid_data[pmid_data.Year >= 2010]\n",
    "print len(pmid_data)"
   ]
  },
  {
   "cell_type": "markdown",
   "metadata": {},
   "source": [
    "My goodness. Most of the papers are recent. Well, 1.5 million papers it is then."
   ]
  },
  {
   "cell_type": "code",
   "execution_count": 26,
   "metadata": {
    "collapsed": false
   },
   "outputs": [
    {
     "data": {
      "text/plain": [
       "dtype('float64')"
      ]
     },
     "execution_count": 26,
     "metadata": {},
     "output_type": "execute_result"
    }
   ],
   "source": [
    "pmid_data.PMID.dtype"
   ]
  },
  {
   "cell_type": "markdown",
   "metadata": {},
   "source": [
    "That's what I thought... pandas converted the PMID col to floats because of some NaN entries.\n",
    "So let's drop the NaN records from PMID, cast as int to get rid of the decimals, cast as str to use as proper ID codes, and finally convert this pandas Series to a python list..."
   ]
  },
  {
   "cell_type": "code",
   "execution_count": 27,
   "metadata": {
    "collapsed": false
   },
   "outputs": [
    {
     "name": "stdout",
     "output_type": "stream",
     "text": [
      "1427980\n",
      "['21464888', '19663750', '16584150', '17233537', '16584152', '16584155', '16796349', '16796357', '16796363', '17285742']\n"
     ]
    }
   ],
   "source": [
    "pmids = pmid_data.PMID.dropna().apply(int).apply(str).tolist()\n",
    "print len(pmids)\n",
    "print pmids[:10]"
   ]
  },
  {
   "cell_type": "markdown",
   "metadata": {},
   "source": [
    "Now we've got our big list of pmids to feed to Entrez.\n",
    "Let's test out the first 10 of them..."
   ]
  },
  {
   "cell_type": "code",
   "execution_count": 28,
   "metadata": {
    "collapsed": false,
    "scrolled": true
   },
   "outputs": [
    {
     "name": "stdout",
     "output_type": "stream",
     "text": [
      "This paper reports findings from a clinical trial of a probation case management (PCM) intervention for drug-involved women offenders. Participants were randomly assigned to either PCM (n=92) or standard probation (n=91), and followed for 12 months using measures of substance abuse, psychiatric symptoms, social support and service utilization. Arrest data were collected from administrative datasets. The sample (N=183) included mostly African American (57%) and White (20%) women, with a mean age of 34.7 (SD = 9.2) and mean education of 11.6 years (SD = 2.1). Cocaine and heroin were the most frequently reported drugs of abuse, 86% reported prior history of incarceration, and 74% had children. Women assigned to both PCM and standard probation showed change over time in the direction of clinical improvement on 7 of 10 outcomes measured. However, changes observed for the PCM group were no different than those observed for the standard probation group. Higher levels of case management, drug abuse treatment, and probationary supervision may be required to achieve improved outcomes in this population.\n",
      "OBJECTIVES: To assess the association of depressive symptoms with diabetes self-management regimens among older adults with type 2 diabetes in a rural, ethnically diverse community. METHODS: Data from 696 rural older African Americans, American Indians, and whites were used to assess depressive symptoms (modified CES-D) and diabetes self-management (physical activity, blood glucose self-monitoring, self foot checks, following a healthful eating plan, and medication adherence). RESULTS: In bivariate analyses, high CES-D scores were associated with decreased adherence to a healthful eating plan and physical activity and increased foot checks; the latter 2 remained significant in multivariate analyses. CONCLUSIONS: Older adults with diabetes and depression are less likely to adhere to self-management, increasing their risk of complications.\n",
      "The aim of this study was to formulate a new delivery system for ecological pesticides by the incorporation of Artemisia arborescens L essential oil into solid lipid nanoparticles (SLN). Two different SLN formulations were prepared following the high-pressure homogenization technique using Compritol 888 ATO as lipid and Poloxamer 188 or Miranol Ultra C32 as surfactants. The SLN formulation particle size was determined using Photon correlation spectroscopy (PCS) and laser diffraction analysis (LD). The change of particle charge was studied by zeta potential (ZP) measurements, while the melting and recrystallization behavior was studied using differential scanning calorimetry (DSC). In vitro release studies of the essential oil were performed at 35 degrees C. Data showed a high physical stability for both formulations at various storage temperatures during 2 months of investigation. In particular, average diameter of Artemisia arborescens L essential oil-loaded SLN did not vary during storage and increased slightly after spraying the SLN dispersions. In vitro release experiments showed that SLN were able to reduce the rapid evaporation of essential oil if compared with the reference emulsions. Therefore, obtained results showed that the studied SLN formulations are suitable carriers in agriculture.\n",
      "The purpose of this study was to establish the link between the wetting behavior of crystalline pharmaceutical solids and the localized surface chemistry. A range of conventional wetting techniques were evaluated and compared with a novel experimental approach: sessile drop contact angle measurements on the individual facets of macroscopic (>1 cm) single crystals. Conventional measurement techniques for determining surface energetics such as capillary rise and sessile drops on powder compacts were found not to provide reliable results. When the macroscopic crystal approach was used, major differences for advancing contact angles, theta(a), of water were observed-as low as 16 degrees on facet (001) and as high as 68 degrees on facet (010) of form I paracetamol. theta(a) trends were in excellent agreement with X-ray photoelectron spectroscopy surface composition and known crystallographic structures, suggesting a direct relationship to the local surface chemistry. Inverse gas chromatography (IGC) was further used to probe the surface properties of milled and unmilled samples, as a function of particle size. IGC experiments confirmed that milling exposes the weakest attachment energy facet, with increasing dominance as particle size is reduced. The weakest attachment energy facet was also found to exhibit the highest theta(a) for water and to be the most hydrophobic facet. This anisotropic wetting behavior was established for a range of crystalline systems: paracetamol polymorphs, aspirin, and ibuprofen racemates. theta(a) was found to be very sensitive to the local surface chemistry. It is proposed that the hydrophilicity/hydrophobicity of facets reflects the presence of functional groups at surfaces to form hydrogen bonds with external molecules.\n",
      "The aim of this work was to develop a methodology for rapid determination of the critical hydrophilic-lipophilic balance (HLB) value of lipophilic fractions of emulsions. The emulsions were prepared by the spontaneous emulsification process with HLB value from 4.3 to 16.7. The preparations were stored at 2 different temperatures (25 degrees C and 4 degrees C) and their physicochemical behavior was evaluated by the micro-emultocrit technique and the long-term stability study. The experimental data show a reverse relationship between HLB values of the surfactant mixtures and emulsion stability. A close correlation between the results for both stability procedures was observed, suggesting the use of micro-emultocrit to predict stabilities of such systems. In addition, it was found that the critical HLB of the Mygliol 812 was 15.367.\n",
      "The objective of this work was to develop matrix sustained-release tablets of highly water-soluble tramadol HCl using natural gums (xanthan [X gum] and guar [G gum]) as cost-effective, nontoxic, easily available, and suitable hydrophilic matrix systems compared with the extensively investigated hydrophilic matrices (ie, hydroxypropyl methylcellulose [HPMC]/carboxymethyl cellulose [CMC] with respect to in vitro drug release rate) and hydration rate of the polymers. Matrix tablets of tramadol (dose 100 mg) were produced by direct compression method. Different ratios of 100:0, 80:20, 60:40, 20:80, 0:100 of G gum (or X):HPMC, X gum:G gum, and triple mixture of these polymers (G gum, X gum, HPMC) were applied. After evaluation of physical characteristics of tablets, the dissolution test was performed in the phosphate buffer media (pH 7.4) up to 8 hours. Tablets with only X had the highest mean dissolution time (MDT), the least dissolution efficiency (DE(8)%), and released the drug following a zero-order model via swelling, diffusion, and erosion mechanisms. Guar gum alone could not efficiently control the drug release, while X and all combinations of natural gums with HPMC could retard tramadol HCl release. However, according to the similarity factor (f(2) ), pure HPMC and H(8)G(2) were the most similar formulations to Topalgic-LP as the reference standard.\n",
      "The purpose of this study was to evaluate the change of surface roughness and the development of the film during the film coating process using laser profilometer roughness measurements, SEM imaging, and energy dispersive X-ray (EDX) analysis. Surface roughness and texture changes developing during the process of film coating tablets were studied by noncontact laser profilometry and scanning electron microscopy (SEM). An EDX analysis was used to monitor the magnesium stearate and titanium dioxide of the tablets. The tablet cores were film coated with aqueous hydroxypropyl methylcellulose, and the film coating was performed using an instrumented pilot-scale side-vented drum coater. The SEM images of the film-coated tablets showed that within the first 30 minutes, the surface of the tablet cores was completely covered with a thin film. The magnesium signal that was monitored by SEM-EDX disappeared after ~15 to 30 minutes, indicating that the tablet surface was homogeneously covered with film coating. The surface roughness started to increase from the beginning of the coating process, and the increase in the roughness broke off after 30 minutes of spraying. The results clearly showed that the surface roughness of the tablets increased until the film coating covered the whole surface area of the tablets, corresponding to a coating time period of 15 to 30 minutes (from the beginning of the spraying phase). Thereafter, the film only became thicker. The methods used in this study were applicable in the visualization of the changes caused by the film coating on the tablet surfaces.\n",
      "The objective of this research was to estimate differences in heat and mass transfer between freeze dryers due to inherent design characteristics using data obtained from sublimation tests. This study also aimed to provide guidelines for convenient scale-up of the freeze-drying process. Data obtained from sublimation tests performed on laboratory-scale, pilot, and production freeze dryers were used to evaluate various heat and mass transfer parameters: nonuniformity in shelf surface temperatures, resistance of pipe, refrigeration system, and condenser. Emissivity measurements of relevant surfaces such as the chamber wall and the freeze dryer door were taken to evaluate the impact of atypical radiation heat transfer during scale-up. \"Hot\" and \"cold\" spots were identified on the shelf surface of different freeze dryers, and the impact of variation in shelf surface temperatures on the primary drying time and the product temperature during primary drying was studied. Calculations performed using emissivity measurements on different freeze dryers suggest that a front vial in the laboratory lyophilizer received 1.8 times more heat than a front vial in a manufacturing freeze dryer operating at a shelf temperature of -25 degrees C and a chamber pressure of 150 mTorr during primary drying. Therefore, front vials in the laboratory are much more atypical than front vials in manufacturing. Steady-state heat and mass transfer equations were used to study a combination of different scale-up issues pertinent during lyophilization cycles commonly used for the freeze-drying of pharmaceuticals.\n",
      "The purpose of this study was to examine the suitability of polystyrene-coated (PS-coated) microcapsules of drug-resin complex for achieving prolonged release of diltiazem-HCl, a highly water-soluble drug, in simulated gastric and intestinal fluid. The drug was bound to Indion 254, a cation-exchange resin, and the resulting resinate was microencapsulated with PS using an oil-in-water emulsion-solvent evaporation method. The effect of various formulation parameters on the characteristics of the microcapsules was studied. Mean diameter and encapsulation efficiency of the microcapsules rose with an increase in the concentration of emulsion stabilizer and the coat/core ratio, while the same characteristics tended to decrease with an increase in the volume of the organic disperse phase. The desorption of drug from the uncoated resinate was quite rapid and independent of the pH of the dissolution media. On the other hand, the drug release from the microcapsules was prolonged for different periods of time depending on the formulation parameters and was also found to be independent of the pH of the dissolution media. Both the encapsulation efficiency and the retardation of drug release were found to be dependent on the uniformity of coating, which in turn was influenced by the formulation parameters. Kinetic studies revealed that the desorption of drug from the resinate obeyed the typical particle diffusion process, whereas the drug release from the microencapsulated resinate followed the diffusion-controlled model in accordance with the Higuchi equation. PS appeared to be a suitable polymer to provide prolonged release of diltiazem independent of the pH of the dissolution media.\n",
      "The purpose of this research was to investigate novel particulate carrier system such as solid lipid nanoparticles (SLN) for topical application of vitamin A palmitate and to study its beneficial effects on skin. Topical gels enriched with SLN of vitamin A were prepared. The solid lipid nanoparticulate dispersion was prepared using high-pressure homogenization technique and was incorporated into polymeric gels of Carbopol, Pemulen, Lutrol, and Xanthan gum for convenient application. The nanoparticulate dispersion and its gels were evaluated for various parameters such as particle size, in vitro drug release, in vitro penetration, in vivo skin hydration, and skin irritation. The solid lipid nanoparticulate dispersion showed mean particle size of 350 nm. Differential scanning calorimetry studies revealed no drug-excipient incompatibility. In vitro release profile of vitamin A palmitate from nanoparticulate dispersion and its gel showed prolonged drug release up to 24 hours, which could be owing to embedment of drug in the solid lipid core. In vitro penetration studies showed almost 2 times higher drug concentration in the skin with lipid nanoparticle-enriched gel as compared with conventional gel, thus indicating better localization of the drug in the skin. In vivo skin hydration studies in albino rats revealed increase in the thickness of the stratum corneum with improved skin hydration. The developed formulation was nonirritant to the skin with no erythema or edema and had primary irritation index of 0.00. Thus it can be concluded that SLN represents a promising particulate carrier having controlled drug release, improved skin hydration, and potential to localize the drug in the skin with no skin irritation.\n"
     ]
    }
   ],
   "source": [
    "sample = pmids[:10]\n",
    "Entrez.email = 'your_email@your_address.com'\n",
    "handle = Entrez.efetch(db=\"pubmed\", id=sample, rettype=\"medline\", retmode=\"text\")\n",
    "records = Medline.parse(handle)\n",
    "for record in records:\n",
    "    print record['AB']"
   ]
  },
  {
   "cell_type": "markdown",
   "metadata": {},
   "source": [
    "Sweet. Now it's just a matter of scaling up and saving the results.\n",
    "Let's make sure to skip any papers that don't have abstracts (for whatever reason).\n",
    "And we'll have to do it in chunks of 10,000 queries because of the API limit:\n",
    "http://www.ncbi.nlm.nih.gov/books/NBK25499/#chapter4.EFetch"
   ]
  },
  {
   "cell_type": "code",
   "execution_count": 42,
   "metadata": {
    "collapsed": false
   },
   "outputs": [
    {
     "name": "stdout",
     "output_type": "stream",
     "text": [
      "142\n",
      "Chunk 140\n",
      "13639\n"
     ]
    }
   ],
   "source": [
    "import sys, os\n",
    "\n",
    "skipped = 0\n",
    "num_chunks = len(pmids)/10000\n",
    "print(num_chunks), \"total chunks needed\"\n",
    "# check for chunks from previous runs, since this will take a while!\n",
    "done = [i for i in os.listdir(\"/Users/adam/Code/SCIgen2/char-rnn/data/pubmed_abstracts/chunks\") if i[-3:] == \"txt\"]\n",
    "for i in range(num_chunks + 1):\n",
    "    if \"%s.txt\" % str(i) in done:\n",
    "        continue\n",
    "    with open(\"/Users/adam/Code/SCIgen2/char-rnn/data/pubmed_abstracts/chunks/%s.txt\" % i, \"wb\") as f:\n",
    "        if i%20 == 0:\n",
    "            print(\"current chunk: %d\" % i)\n",
    "            sys.stdout.flush()\n",
    "        chunk = pmids[i * 10000: (i + 1) * 10000]\n",
    "        Entrez.email = 'your_email@your_address.com'\n",
    "        handle = Entrez.efetch(db=\"pubmed\", id=chunk, rettype=\"medline\", retmode=\"text\")\n",
    "        records = Medline.parse(handle)\n",
    "        for record in records:\n",
    "            try:\n",
    "                f.write(record['AB'] + '\\n')\n",
    "            except KeyError:\n",
    "                skipped += 1\n",
    "\n",
    "print skipped, \"abstracts skipped\""
   ]
  },
  {
   "cell_type": "markdown",
   "metadata": {},
   "source": [
    "Nice. So only 13,639 out of 1.4 million papers didn't have abstracts. \n",
    "Now to combine those chunks into a single file called input.txt for char-rnn..."
   ]
  },
  {
   "cell_type": "code",
   "execution_count": null,
   "metadata": {
    "collapsed": true
   },
   "outputs": [],
   "source": []
  },
  {
   "cell_type": "code",
   "execution_count": 46,
   "metadata": {
    "collapsed": false
   },
   "outputs": [],
   "source": [
    "done = [i for i in os.listdir(\"/Users/adam/Code/SCIgen2/char-rnn/data/pubmed_abstracts/chunks\") if i[-3:] == \"txt\"]\n",
    "with open(\"/Users/adam/Code/SCIgen2/char-rnn/data/pubmed_abstracts/input.txt\", \"wb\") as f:\n",
    "    for i in done:\n",
    "        with open(\"/Users/adam/Code/SCIgen2/char-rnn/data/pubmed_abstracts/chunks/%s\" %i, \"rb\") as j:\n",
    "            chunk = j.read()\n",
    "            f.write(chunk)"
   ]
  },
  {
   "cell_type": "markdown",
   "metadata": {},
   "source": [
    "And now we have a nice big corpus of scientific abstracts!"
   ]
  }
 ],
 "metadata": {
  "kernelspec": {
   "display_name": "Python 2",
   "language": "python",
   "name": "python2"
  },
  "language_info": {
   "codemirror_mode": {
    "name": "ipython",
    "version": 2
   },
   "file_extension": ".py",
   "mimetype": "text/x-python",
   "name": "python",
   "nbconvert_exporter": "python",
   "pygments_lexer": "ipython2",
   "version": "2.7.10"
  }
 },
 "nbformat": 4,
 "nbformat_minor": 0
}
